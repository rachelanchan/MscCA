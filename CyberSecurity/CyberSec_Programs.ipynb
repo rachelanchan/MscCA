{
  "nbformat": 4,
  "nbformat_minor": 0,
  "metadata": {
    "colab": {
      "provenance": []
    },
    "kernelspec": {
      "name": "python3",
      "display_name": "Python 3"
    },
    "language_info": {
      "name": "python"
    }
  },
  "cells": [
    {
      "cell_type": "markdown",
      "source": [
        "CyberSecurity: 26 Aug, 2023\n",
        "\n",
        "Program 1: WAP in python which defines a function and takes a password string as an input and returns its SHA-256 hashed representation as a hexadecimal string."
      ],
      "metadata": {
        "id": "8QwvN2Z57Z7V"
      }
    },
    {
      "cell_type": "code",
      "execution_count": null,
      "metadata": {
        "colab": {
          "base_uri": "https://localhost:8080/"
        },
        "id": "4EMywBcE62H5",
        "outputId": "117cb792-06e6-44a7-d5ca-9a9e355bfe77"
      },
      "outputs": [
        {
          "output_type": "stream",
          "name": "stdout",
          "text": [
            "Input your password: 1234\n",
            "b'1234'\n",
            "<sha256 _hashlib.HASH object @ 0x7f853412e4d0>\n",
            "Your hashed password is: 03ac674216f3e15c761ee1a5e255f067953623c8b388b4459e13f978d7c846f4\n"
          ]
        }
      ],
      "source": [
        "import hashlib\n",
        "def hash_password(password):\n",
        "  # encode the password as bytes\n",
        "  password_bytes =  password.encode('utf-8')\n",
        "  print(password_bytes)\n",
        "  # Use SHA-256 hash function to create a hash object\n",
        "  hash_object = hashlib.sha256(password_bytes)\n",
        "  print(hash_object)\n",
        "  # Get the hexadecimal representation of the hash\n",
        "  password_hash = hash_object.hexdigest()\n",
        "\n",
        "  return password_hash\n",
        "\n",
        "password = input(\"Input your password: \")\n",
        "hashed_password = hash_password(password)\n",
        "print(f\"Your hashed password is: {hashed_password}\")\n"
      ]
    },
    {
      "cell_type": "markdown",
      "source": [
        "Program 2. WAP that defines a function to generate random passwords of a specified length. The function takes an optional parameter length which is set to 8 by default. If no length is specified by the user, the password will have 8 characters."
      ],
      "metadata": {
        "id": "Bu-UmNvh_Od3"
      }
    },
    {
      "cell_type": "code",
      "source": [
        "import random\n",
        "import string\n",
        "def generate_password(length=8):\n",
        "  #define the characters to use in the password\n",
        "  all_characters = string.ascii_letters + string.digits + string.punctuation\n",
        "\n",
        "  #use the random module to generate the password\n",
        "\n",
        "  password = ''.join(random.choice(all_characters) for i in range(length))\n",
        "\n",
        "  return password\n",
        "\n",
        "password_length_str = input(\"Input the desired length of your password:\")\n",
        "if password_length_str:\n",
        "    password_length = int(password_length_str)\n",
        "else:\n",
        "    password_length = 8\n",
        "\n",
        "password = generate_password(password_length)\n",
        "print(f\"Generated password is: {password}\")"
      ],
      "metadata": {
        "colab": {
          "base_uri": "https://localhost:8080/"
        },
        "id": "fueVc0Vx7q5T",
        "outputId": "2b0af3ff-ef88-48e2-b441-bfcd25e85553"
      },
      "execution_count": null,
      "outputs": [
        {
          "output_type": "stream",
          "name": "stdout",
          "text": [
            "Input the desired length of your password:\n",
            "Generated password is: \\0._eB;\"\n"
          ]
        }
      ]
    },
    {
      "cell_type": "markdown",
      "source": [
        "Program 3: WAP in Python to check if a password meets the following criteria:\n",
        "At least 8 characters long.\n",
        "Contains atlease one uppercase letter, one lowercase letter, one digit and one special character (!, @, #, $, %, or &)\n",
        "\n",
        "If the password meets the criteria, print a message that says \"Valid Password.\"\n",
        "If it doesn't meet the criteria, print a message which says \"Password does not meet requirements.\""
      ],
      "metadata": {
        "id": "ktdEBEhlCUa6"
      }
    },
    {
      "cell_type": "code",
      "source": [
        "import re\n",
        "\n",
        "def validate_password(password):\n",
        "   #check if the password has atleast 8 characters\n",
        "    if len(password) < 8:\n",
        "        return False\n",
        "\n",
        "    #check if the password has atleast 1 uppercase character\n",
        "    if not re.search(r'[A-Z]', password):\n",
        "        return False\n",
        "\n",
        "    #check if the password has atleast 1 lowercase character\n",
        "    if not re.search(r'[a-z]', password):\n",
        "        return False\n",
        "\n",
        "    #check if the password has atleast 1 digit\n",
        "    if not re.search(r'\\d', password):\n",
        "        return False\n",
        "\n",
        "    #check if the password has atleast 1 special character\n",
        "    if not re.search(r'[!@#$%^&*(),.?\":{}|<>]', password):\n",
        "        return False\n",
        "\n",
        "    #if all the conditions are met, the password is valid\n",
        "    return True\n",
        "\n",
        "password = input(\"Input your password: \")\n",
        "is_valid = validate_password(password)\n",
        "\n",
        "if is_valid:\n",
        "    print(\"Valid Password.\")\n",
        "else:\n",
        "    print(\"Password does not meet requirements.\")"
      ],
      "metadata": {
        "colab": {
          "base_uri": "https://localhost:8080/"
        },
        "id": "k434z1QADnbP",
        "outputId": "c4e38a7f-d5d6-47ba-9742-10727f163253"
      },
      "execution_count": null,
      "outputs": [
        {
          "output_type": "stream",
          "name": "stdout",
          "text": [
            "Input your password: Rach@123\n",
            "Valid Password.\n"
          ]
        }
      ]
    },
    {
      "cell_type": "markdown",
      "source": [
        "Program 4: WAP to create a python function that takes a password as input and returns a list of common character substitutions that could be used to create stronger passwords."
      ],
      "metadata": {
        "id": "_DGn3dXLFzpa"
      }
    },
    {
      "cell_type": "code",
      "source": [
        "def get_password_variants(password):\n",
        "    pass_variants = []\n",
        "    substitutions = {\n",
        "        'a': ['@', '4', 'A'],\n",
        "        'e': ['3', 'E'],\n",
        "        'i': ['1', '!', 'I'],\n",
        "        'o': ['0', 'O'],\n",
        "        's': ['$', '5', 'S'],\n",
        "        't': ['7', 'T'],\n",
        "        'z': ['2', 'Z']\n",
        "    }\n",
        "\n",
        "    for i in range(len(password)):\n",
        "        if password[i] in substitutions:\n",
        "            for sub in substitutions[password[i]]:\n",
        "                pass_variant = password[:i] + sub + password[i+1:]\n",
        "                pass_variants.append(pass_variant)\n",
        "\n",
        "    pass_variants.append(password + '!')\n",
        "    pass_variants.append(password + '123')\n",
        "    pass_variants.append(password + '@')\n",
        "    pass_variants.append(password + '#')\n",
        "    pass_variants.append(password + '$')\n",
        "    pass_variants.append(password + '%')\n",
        "    pass_variants.append(password + '&')\n",
        "    pass_variants.append(password + '*')\n",
        "    pass_variants.append(password + '-')\n",
        "    pass_variants.append(password + '_')\n",
        "    pass_variants.append(password + '=')\n",
        "    pass_variants.append(password + '+')\n",
        "    return pass_variants\n",
        "password = input(\"Input your password: \")\n",
        "result_variants = get_password_variants(password)\n",
        "print(result_variants)"
      ],
      "metadata": {
        "colab": {
          "base_uri": "https://localhost:8080/"
        },
        "id": "f6Kp9Yy0HQT4",
        "outputId": "82e873ab-e2bf-4d81-9a7c-8915e508fe70"
      },
      "execution_count": null,
      "outputs": [
        {
          "output_type": "stream",
          "name": "stdout",
          "text": [
            "Input your password: Rachel@123\n",
            "['R@chel@123', 'R4chel@123', 'RAchel@123', 'Rach3l@123', 'RachEl@123', 'Rachel@123!', 'Rachel@123123', 'Rachel@123@', 'Rachel@123#', 'Rachel@123$', 'Rachel@123%', 'Rachel@123&', 'Rachel@123*', 'Rachel@123-', 'Rachel@123_', 'Rachel@123=', 'Rachel@123+']\n"
          ]
        }
      ]
    },
    {
      "cell_type": "markdown",
      "source": [
        "Program 5: WAP in Python to check the attempts to crack the password"
      ],
      "metadata": {
        "id": "MbncZBC-JQ5G"
      }
    },
    {
      "cell_type": "code",
      "source": [
        "import itertools\n",
        "import string\n",
        "\n",
        "def bruteforce_attack(password):\n",
        "    chars = string.printable.strip()\n",
        "    attempts = 0\n",
        "    for length in range(1, len(password) + 1):\n",
        "        for guess in itertools.product(chars, repeat=length):\n",
        "            attempts += 1\n",
        "            guess = ''.join(guess)\n",
        "            if guess == password:\n",
        "                return (attempts, guess)\n",
        "    return (attempts, None)\n",
        "\n",
        "password = input(\"Input the password to crack: \")\n",
        "attempts, guess = bruteforce_attack(password)\n",
        "if guess:\n",
        "    print(f\"Password cracked in {attempts} attempts. The password is {guess}.\")\n",
        "else:\n",
        "    print(f\"Password not cracked after {attempts} attempts.\")"
      ],
      "metadata": {
        "colab": {
          "base_uri": "https://localhost:8080/"
        },
        "id": "0EV_rmVyLiaZ",
        "outputId": "fd3d7d35-14a0-4a85-d63c-e4e9428f7e77"
      },
      "execution_count": null,
      "outputs": [
        {
          "output_type": "stream",
          "name": "stdout",
          "text": [
            "Input the password to crack: 123\n",
            "Password cracked in 17958 attempts. The password is 123.\n"
          ]
        }
      ]
    }
  ]
}